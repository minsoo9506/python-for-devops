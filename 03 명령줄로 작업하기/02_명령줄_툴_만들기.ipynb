{
 "cells": [
  {
   "cell_type": "markdown",
   "source": [
    "- `sys.argv`를 사용할 수도 있지만\r\n",
    "- 주로 `argparse` (표준라이브러리), `click`, `python-fire` 사용"
   ],
   "metadata": {}
  },
  {
   "cell_type": "code",
   "execution_count": 3,
   "source": [
    "import os\r\n",
    "os.getcwd()"
   ],
   "outputs": [
    {
     "output_type": "execute_result",
     "data": {
      "text/plain": [
       "'c:\\\\Users\\\\ghktj\\\\Desktop\\\\github\\\\python-for-devops\\\\03 명령줄로 작업하기'"
      ]
     },
     "metadata": {},
     "execution_count": 3
    }
   ],
   "metadata": {}
  },
  {
   "cell_type": "code",
   "execution_count": 2,
   "source": [
    "!python my_argparse.py --name song --age 27"
   ],
   "outputs": [
    {
     "output_type": "stream",
     "name": "stdout",
     "text": [
      "Namespace(age='27', name='song')\n",
      "name = song\n",
      "age = 27\n"
     ]
    }
   ],
   "metadata": {}
  },
  {
   "cell_type": "code",
   "execution_count": 4,
   "source": [
    "!python my_click.py --greeting Hello --name minsoo"
   ],
   "outputs": [
    {
     "output_type": "stream",
     "name": "stdout",
     "text": [
      "Hello\n",
      "minsoo\n"
     ]
    }
   ],
   "metadata": {}
  }
 ],
 "metadata": {
  "orig_nbformat": 4,
  "language_info": {
   "name": "python",
   "version": "3.8.3",
   "mimetype": "text/x-python",
   "codemirror_mode": {
    "name": "ipython",
    "version": 3
   },
   "pygments_lexer": "ipython3",
   "nbconvert_exporter": "python",
   "file_extension": ".py"
  },
  "kernelspec": {
   "name": "python3",
   "display_name": "Python 3.8.3 64-bit ('base': conda)"
  },
  "interpreter": {
   "hash": "eb4a930fd72145d7d9fa392a4813b9eb8d897082c9b5b890b08605dc32c3d185"
  }
 },
 "nbformat": 4,
 "nbformat_minor": 2
}