{
 "cells": [
  {
   "cell_type": "code",
   "execution_count": 1,
   "source": [
    "import os"
   ],
   "outputs": [],
   "metadata": {}
  },
  {
   "cell_type": "code",
   "execution_count": 2,
   "source": [
    "# 디렉토리 목록 보여주기\r\n",
    "os.listdir('.')"
   ],
   "outputs": [
    {
     "output_type": "execute_result",
     "data": {
      "text/plain": [
       "['01_파일_읽기와_쓰기.ipynb',\n",
       " '02_대용량_파일.ipynb',\n",
       " '03_os_module.ipynb',\n",
       " 'example.txt',\n",
       " 'example.yaml',\n",
       " 'json_sample.json',\n",
       " 'target.txt',\n",
       " 'write.txt']"
      ]
     },
     "metadata": {},
     "execution_count": 2
    }
   ],
   "metadata": {}
  },
  {
   "cell_type": "code",
   "execution_count": null,
   "source": [
    "# 파일, 디렉토리 이름 바꾸기\r\n",
    "os.rename('before name', 'after_name')"
   ],
   "outputs": [],
   "metadata": {}
  },
  {
   "cell_type": "code",
   "execution_count": null,
   "source": [
    "# 권한 변경\r\n",
    "os.chmod('my_file.py', 권한)"
   ],
   "outputs": [],
   "metadata": {}
  },
  {
   "cell_type": "code",
   "execution_count": 3,
   "source": [
    "# 디렉토리 만들기\r\n",
    "os.mkdir('./hi')"
   ],
   "outputs": [],
   "metadata": {}
  },
  {
   "cell_type": "code",
   "execution_count": 4,
   "source": [
    "# 디렉토리 삭제\r\n",
    "os.rmdir('./hi')"
   ],
   "outputs": [],
   "metadata": {}
  },
  {
   "cell_type": "code",
   "execution_count": null,
   "source": [
    "# 파일 삭제\r\n",
    "os.remove(원하는 파일)"
   ],
   "outputs": [],
   "metadata": {}
  },
  {
   "cell_type": "markdown",
   "source": [
    "## `os.path` : 파일 및 디렉터리 관리"
   ],
   "metadata": {}
  },
  {
   "cell_type": "code",
   "execution_count": 6,
   "source": [
    "cur_dir = os.getcwd()\r\n",
    "cur_dir"
   ],
   "outputs": [
    {
     "output_type": "execute_result",
     "data": {
      "text/plain": [
       "'c:\\\\Users\\\\ghktj\\\\Desktop\\\\github\\\\python-for-devops\\\\02 파일 및 파일시스템 자동화'"
      ]
     },
     "metadata": {},
     "execution_count": 6
    }
   ],
   "metadata": {}
  },
  {
   "cell_type": "code",
   "execution_count": 7,
   "source": [
    "# 촤하위 경로와 상위 결로 나누기\r\n",
    "os.path.split(cur_dir)"
   ],
   "outputs": [
    {
     "output_type": "execute_result",
     "data": {
      "text/plain": [
       "('c:\\\\Users\\\\ghktj\\\\Desktop\\\\github\\\\python-for-devops', '02 파일 및 파일시스템 자동화')"
      ]
     },
     "metadata": {},
     "execution_count": 7
    }
   ],
   "metadata": {}
  },
  {
   "cell_type": "code",
   "execution_count": 8,
   "source": [
    "# 상위 경로 반환\r\n",
    "os.path.dirname(cur_dir)"
   ],
   "outputs": [
    {
     "output_type": "execute_result",
     "data": {
      "text/plain": [
       "'c:\\\\Users\\\\ghktj\\\\Desktop\\\\github\\\\python-for-devops'"
      ]
     },
     "metadata": {},
     "execution_count": 8
    }
   ],
   "metadata": {}
  },
  {
   "cell_type": "code",
   "execution_count": 9,
   "source": [
    "# 최하위 경로 반환\r\n",
    "os.path.basename(cur_dir)"
   ],
   "outputs": [
    {
     "output_type": "execute_result",
     "data": {
      "text/plain": [
       "'02 파일 및 파일시스템 자동화'"
      ]
     },
     "metadata": {},
     "execution_count": 9
    }
   ],
   "metadata": {}
  },
  {
   "cell_type": "code",
   "execution_count": null,
   "source": [
    "# 사용예시\r\n",
    "def find_rc(rc_name='.examplerc'):\r\n",
    "\r\n",
    "    # Env 변수\r\n",
    "    var_name = 'EXAMPLERC_DIR'\r\n",
    "    if var_name in os.environ: # 해당 환경변수가 존재하는지 확인\r\n",
    "        var_path = os.path.join(f'${var_name}', rc_name)\r\n",
    "        config_path = os.path.expandvars(var_path) # 경로에 해당 값이 포함되도록 환경 변수 확장\r\n",
    "        print(f'Check {config_path}')\r\n",
    "        if os.path.exists(config_path):\r\n",
    "            return config_path\r\n",
    "\r\n",
    "    # 현재 작업 중인 디렉토리 확인\r\n",
    "    config_path = os.path.join(os.getcwd(), rc_name)\r\n",
    "    print(f'Check {config_path}')\r\n",
    "    if os.path.exists(config_path):\r\n",
    "        return config_path"
   ],
   "outputs": [],
   "metadata": {}
  },
  {
   "cell_type": "markdown",
   "source": [
    "## `os.walk` : 사용한 디렉토리 트리 탐색"
   ],
   "metadata": {}
  },
  {
   "cell_type": "code",
   "execution_count": 13,
   "source": [
    "os.walk('c:') # 제너레이터를 반환\r\n",
    "# (상위 경로, 디렉토리 목록, 파일 목록) 튜플 반환"
   ],
   "outputs": [
    {
     "output_type": "execute_result",
     "data": {
      "text/plain": [
       "<generator object walk at 0x000001BFE9AFFB30>"
      ]
     },
     "metadata": {},
     "execution_count": 13
    }
   ],
   "metadata": {}
  },
  {
   "cell_type": "code",
   "execution_count": 30,
   "source": [
    "for path, directory, file in os.walk('../02 파일 및 파일시스템 자동화'):\r\n",
    "    print(path)\r\n",
    "    print(directory) \r\n",
    "    print(file)\r\n",
    "    for file_name in file:\r\n",
    "        file_path = os.path.join(path, file_name)\r\n",
    "        file_size = os.path.getsize(file_path)\r\n",
    "        print(f'file path = {file_path}')\r\n",
    "        print(f'file size = {file_size}')\r\n",
    "    print()"
   ],
   "outputs": [
    {
     "output_type": "stream",
     "name": "stdout",
     "text": [
      "../02 파일 및 파일시스템 자동화\n",
      "['os_walk_practice']\n",
      "['01_파일_읽기와_쓰기.ipynb', '02_대용량_파일.ipynb', '03_os_module.ipynb', 'example.txt', 'example.yaml', 'json_sample.json', 'target.txt', 'write.txt']\n",
      "file path = ../02 파일 및 파일시스템 자동화\\01_파일_읽기와_쓰기.ipynb\n",
      "file size = 5332\n",
      "file path = ../02 파일 및 파일시스템 자동화\\02_대용량_파일.ipynb\n",
      "file size = 1523\n",
      "file path = ../02 파일 및 파일시스템 자동화\\03_os_module.ipynb\n",
      "file size = 7486\n",
      "file path = ../02 파일 및 파일시스템 자동화\\example.txt\n",
      "file size = 56\n",
      "file path = ../02 파일 및 파일시스템 자동화\\example.yaml\n",
      "file size = 140\n",
      "file path = ../02 파일 및 파일시스템 자동화\\json_sample.json\n",
      "file size = 132\n",
      "file path = ../02 파일 및 파일시스템 자동화\\target.txt\n",
      "file size = 56\n",
      "file path = ../02 파일 및 파일시스템 자동화\\write.txt\n",
      "file size = 15\n",
      "\n",
      "../02 파일 및 파일시스템 자동화\\os_walk_practice\n",
      "['folder']\n",
      "['test1.py']\n",
      "file path = ../02 파일 및 파일시스템 자동화\\os_walk_practice\\test1.py\n",
      "file size = 4\n",
      "\n",
      "../02 파일 및 파일시스템 자동화\\os_walk_practice\\folder\n",
      "[]\n",
      "['test2.py']\n",
      "file path = ../02 파일 및 파일시스템 자동화\\os_walk_practice\\folder\\test2.py\n",
      "file size = 4\n",
      "\n"
     ]
    }
   ],
   "metadata": {}
  }
 ],
 "metadata": {
  "orig_nbformat": 4,
  "language_info": {
   "name": "python",
   "version": "3.8.3",
   "mimetype": "text/x-python",
   "codemirror_mode": {
    "name": "ipython",
    "version": 3
   },
   "pygments_lexer": "ipython3",
   "nbconvert_exporter": "python",
   "file_extension": ".py"
  },
  "kernelspec": {
   "name": "python3",
   "display_name": "Python 3.8.3 64-bit ('base': conda)"
  },
  "interpreter": {
   "hash": "eb4a930fd72145d7d9fa392a4813b9eb8d897082c9b5b890b08605dc32c3d185"
  }
 },
 "nbformat": 4,
 "nbformat_minor": 2
}