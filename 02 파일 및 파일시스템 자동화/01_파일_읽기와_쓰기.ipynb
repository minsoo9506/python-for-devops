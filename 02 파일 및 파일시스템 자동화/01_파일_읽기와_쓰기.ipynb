{
 "cells": [
  {
   "cell_type": "markdown",
   "source": [
    "- 읽기"
   ],
   "metadata": {}
  },
  {
   "cell_type": "code",
   "execution_count": 2,
   "source": [
    "file_path = 'example.txt'\r\n",
    "\r\n",
    "with open(file_path, 'r') as open_file:\r\n",
    "    text = open_file.read()\r\n",
    "\r\n",
    "text"
   ],
   "outputs": [
    {
     "output_type": "execute_result",
     "data": {
      "text/plain": [
       "'All models are wrong, but some are useful!\\nHello world!'"
      ]
     },
     "metadata": {},
     "execution_count": 2
    }
   ],
   "metadata": {}
  },
  {
   "cell_type": "code",
   "execution_count": 5,
   "source": [
    "file_path = 'example.txt'\r\n",
    "\r\n",
    "# 읽기 전용\r\n",
    "with open(file_path, 'r') as open_file:\r\n",
    "    text = open_file.readlines()\r\n",
    "\r\n",
    "text"
   ],
   "outputs": [
    {
     "output_type": "execute_result",
     "data": {
      "text/plain": [
       "['All models are wrong, but some are useful!\\n', 'Hello world!']"
      ]
     },
     "metadata": {},
     "execution_count": 5
    }
   ],
   "metadata": {}
  },
  {
   "cell_type": "markdown",
   "source": [
    "- 쓰기"
   ],
   "metadata": {}
  },
  {
   "cell_type": "code",
   "execution_count": 6,
   "source": [
    "write_text = 'This is writing'\r\n",
    "\r\n",
    "with open('write.txt', 'w') as writing_file:\r\n",
    "    writing_file.write(write_text)"
   ],
   "outputs": [],
   "metadata": {}
  },
  {
   "cell_type": "markdown",
   "source": [
    "- Json"
   ],
   "metadata": {}
  },
  {
   "cell_type": "code",
   "execution_count": 9,
   "source": [
    "# json은 사용하지 않으면 읽기 힘들다\r\n",
    "with open('json_sample.json', 'r') as json_file:\r\n",
    "    info = json_file.read()\r\n",
    "\r\n",
    "info"
   ],
   "outputs": [
    {
     "output_type": "execute_result",
     "data": {
      "text/plain": [
       "'{\\n    \"version\" : \"1.0.0\",\\n    \"owner\" : {\\n        \"firstName\" : \"minsoo\",\\n        \"lastName\" : \"Song\"\\n    }\\n}'"
      ]
     },
     "metadata": {},
     "execution_count": 9
    }
   ],
   "metadata": {}
  },
  {
   "cell_type": "code",
   "execution_count": 11,
   "source": [
    "import json\r\n",
    "\r\n",
    "with open('json_sample.json', 'r') as json_file:\r\n",
    "    info = json.load(json_file)\r\n",
    " \r\n",
    "info"
   ],
   "outputs": [
    {
     "output_type": "execute_result",
     "data": {
      "text/plain": [
       "{'version': '1.0.0', 'owner': {'firstName': 'minsoo', 'lastName': 'Song'}}"
      ]
     },
     "metadata": {},
     "execution_count": 11
    }
   ],
   "metadata": {}
  },
  {
   "cell_type": "code",
   "execution_count": 8,
   "source": [
    "# pprint 모듈은 포맷을 자동으로 처리해서 보기 편하게 해준다고 한다\r\n",
    "from pprint import pprint\r\n",
    "\r\n",
    "pprint(info)"
   ],
   "outputs": [
    {
     "output_type": "stream",
     "name": "stdout",
     "text": [
      "{'owner': {'firstName': 'minsoo', 'lastName': 'Song'}, 'version': '1.0.0'}\n"
     ]
    }
   ],
   "metadata": {}
  },
  {
   "cell_type": "code",
   "execution_count": 12,
   "source": [
    "# 수정하기\r\n",
    "info['owner']['lastName'] = 'Kim'\r\n",
    "\r\n",
    "with open('json_sample.json', 'w') as json_file:\r\n",
    "    info = json.dump(info, json_file) # dump로 수정 -> json_sample.json이 수정됨"
   ],
   "outputs": [],
   "metadata": {}
  },
  {
   "cell_type": "markdown",
   "source": [
    "- YAML"
   ],
   "metadata": {}
  },
  {
   "cell_type": "code",
   "execution_count": 13,
   "source": [
    "!pip install PyYAML"
   ],
   "outputs": [
    {
     "output_type": "stream",
     "name": "stdout",
     "text": [
      "Requirement already satisfied: PyYAML in c:\\users\\ghktj\\anaconda3\\lib\\site-packages (5.3.1)\n"
     ]
    }
   ],
   "metadata": {}
  },
  {
   "cell_type": "code",
   "execution_count": 18,
   "source": [
    "import yaml\r\n",
    "\r\n",
    "with open('example.yaml', 'r') as yaml_file:\r\n",
    "    info = yaml.safe_load(yaml_file)\r\n",
    "\r\n",
    "info"
   ],
   "outputs": [
    {
     "output_type": "execute_result",
     "data": {
      "text/plain": [
       "{'version': '1.0.0',\n",
       " 'metadata': {'name': 'hello world', 'size': '64GB'},\n",
       " 'owner': [{'CEO': 'Kim', 'CTO': 'Park', 'Intern': 'Song'}]}"
      ]
     },
     "metadata": {},
     "execution_count": 18
    }
   ],
   "metadata": {}
  },
  {
   "cell_type": "code",
   "execution_count": null,
   "source": [],
   "outputs": [],
   "metadata": {}
  },
  {
   "cell_type": "code",
   "execution_count": null,
   "source": [],
   "outputs": [],
   "metadata": {}
  }
 ],
 "metadata": {
  "orig_nbformat": 4,
  "language_info": {
   "name": "python",
   "version": "3.8.3",
   "mimetype": "text/x-python",
   "codemirror_mode": {
    "name": "ipython",
    "version": 3
   },
   "pygments_lexer": "ipython3",
   "nbconvert_exporter": "python",
   "file_extension": ".py"
  },
  "kernelspec": {
   "name": "python3",
   "display_name": "Python 3.8.3 64-bit ('base': conda)"
  },
  "interpreter": {
   "hash": "eb4a930fd72145d7d9fa392a4813b9eb8d897082c9b5b890b08605dc32c3d185"
  }
 },
 "nbformat": 4,
 "nbformat_minor": 2
}