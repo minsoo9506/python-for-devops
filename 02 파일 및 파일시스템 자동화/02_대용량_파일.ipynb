{
 "cells": [
  {
   "cell_type": "code",
   "execution_count": 1,
   "source": [
    "# 한번에 메모리 x\r\n",
    "# 한줄씩 처리\r\n",
    "# with 중첩도 가능\r\n",
    "with open('example.txt', 'r') as read_file:\r\n",
    "    with open('target.txt', 'w') as write_file:\r\n",
    "        for line in read_file:\r\n",
    "            write_file.write(line)            "
   ],
   "outputs": [],
   "metadata": {}
  },
  {
   "cell_type": "code",
   "execution_count": 2,
   "source": [
    "# 제너레이터를 만들어도 좋다\r\n",
    "def line_reader(file_path):\r\n",
    "    with open(file_path, 'r') as src_file:\r\n",
    "        for line in src_file:\r\n",
    "            yield line\r\n",
    "\r\n",
    "reader = line_reader('example.txt')\r\n",
    "\r\n",
    "with open('target.txt', 'w') as write_file:\r\n",
    "    for line in reader:\r\n",
    "        write_file.write(line)"
   ],
   "outputs": [],
   "metadata": {}
  }
 ],
 "metadata": {
  "orig_nbformat": 4,
  "language_info": {
   "name": "python",
   "version": "3.8.3",
   "mimetype": "text/x-python",
   "codemirror_mode": {
    "name": "ipython",
    "version": 3
   },
   "pygments_lexer": "ipython3",
   "nbconvert_exporter": "python",
   "file_extension": ".py"
  },
  "kernelspec": {
   "name": "python3",
   "display_name": "Python 3.8.3 64-bit ('base': conda)"
  },
  "interpreter": {
   "hash": "eb4a930fd72145d7d9fa392a4813b9eb8d897082c9b5b890b08605dc32c3d185"
  }
 },
 "nbformat": 4,
 "nbformat_minor": 2
}